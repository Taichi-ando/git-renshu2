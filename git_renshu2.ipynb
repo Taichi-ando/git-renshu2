{
  "nbformat": 4,
  "nbformat_minor": 0,
  "metadata": {
    "colab": {
      "name": "git-renshu2.ipynb",
      "provenance": [],
      "collapsed_sections": [],
      "mount_file_id": "1NxqLDqq65ZG96nkdLCwE_9Bt4N6kbfZn",
      "authorship_tag": "ABX9TyOA5BDMOrsIBc1PWWyDkoiS",
      "include_colab_link": true
    },
    "kernelspec": {
      "name": "python3",
      "display_name": "Python 3"
    },
    "language_info": {
      "name": "python"
    }
  },
  "cells": [
    {
      "cell_type": "markdown",
      "metadata": {
        "id": "view-in-github",
        "colab_type": "text"
      },
      "source": [
        "<a href=\"https://colab.research.google.com/github/Taichi-ando/git-renshu2/blob/greeding.py/git_renshu2.ipynb\" target=\"_parent\"><img src=\"https://colab.research.google.com/assets/colab-badge.svg\" alt=\"Open In Colab\"/></a>"
      ]
    },
    {
      "cell_type": "code",
      "execution_count": null,
      "metadata": {
        "id": "JbvcD6zHd1ax"
      },
      "outputs": [],
      "source": [
        "def func():\n",
        "    print('Hello!')"
      ]
    },
    {
      "cell_type": "code",
      "source": [
        ""
      ],
      "metadata": {
        "id": "5hCFtbuRhfNK"
      },
      "execution_count": null,
      "outputs": []
    }
  ]
}